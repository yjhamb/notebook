{
 "cells": [
  {
   "cell_type": "markdown",
   "metadata": {},
   "source": [
    "# PySpark3 Starter"
   ]
  },
  {
   "cell_type": "markdown",
   "metadata": {},
   "source": [
    "## Import Dataset"
   ]
  },
  {
   "cell_type": "code",
   "execution_count": 1,
   "metadata": {},
   "outputs": [],
   "source": [
    "import pandas as pd\n",
    "from pyspark.sql.types import *\n",
    "from pyspark.context import SparkContext\n",
    "from pyspark.sql.session import SparkSession\n",
    "sc = SparkContext('local')\n",
    "spark = SparkSession(sc)\n",
    "\n",
    "in_path = \"/Users/yjhamb/Projects/data/ts-temperature.csv\"\n",
    "out_path = \"/Users/yjhamb/Projects/data/ts-temperature.parquet\"\n",
    "\n",
    "schema = StructType([\n",
    "    StructField(\"timestamp\", StringType() , True),\n",
    "    StructField(\"metric\", StringType(), True),\n",
    "    StructField(\"value\", DoubleType(), True)\n",
    "])\n",
    "\n",
    "sparkdf = spark.createDataFrame(pd.read_csv(in_path), schema)\n",
    "sparkdf.repartition(1).write.parquet(out_path, mode=\"overwrite\")"
   ]
  },
  {
   "cell_type": "code",
   "execution_count": 2,
   "metadata": {},
   "outputs": [],
   "source": [
    "from pyspark.sql import SQLContext\n",
    "sqlContext = SQLContext(sc)\n",
    "\n",
    "# to read parquet file\n",
    "df = sqlContext.read.parquet(out_path)"
   ]
  },
  {
   "cell_type": "code",
   "execution_count": 3,
   "metadata": {},
   "outputs": [
    {
     "name": "stdout",
     "output_type": "stream",
     "text": [
      "+--------------------+----------+--------------------+\n",
      "|           timestamp|    metric|               value|\n",
      "+--------------------+----------+--------------------+\n",
      "|2016-01-01 00:00:...|temperator|  0.4459392428329241|\n",
      "|2016-01-01 00:10:...|temperator|  0.5986661428427347|\n",
      "|2016-01-01 00:20:...|temperator| 0.19405883198149984|\n",
      "|2016-01-01 00:30:...|temperator|-0.05856959009253765|\n",
      "|2016-01-01 00:40:...|temperator| 0.15047433503687324|\n",
      "|2016-01-01 00:50:...|temperator|  0.2799040131128452|\n",
      "|2016-01-01 01:00:...|temperator| -0.2862025645814765|\n",
      "|2016-01-01 01:10:...|temperator| 0.03085825514000201|\n",
      "|2016-01-01 01:20:...|temperator|-0.16724642118109048|\n",
      "|2016-01-01 01:30:...|temperator| -0.2215947182021833|\n",
      "|2016-01-01 01:40:...|temperator|-0.03731164483706828|\n",
      "|2016-01-01 01:50:...|temperator| -0.5747364423883089|\n",
      "|2016-01-01 02:00:...|temperator|-0.43262609622451625|\n",
      "|2016-01-01 02:10:...|temperator| -0.7111256429645879|\n",
      "|2016-01-01 02:20:...|temperator| -0.7599706701723827|\n",
      "|2016-01-01 02:30:...|temperator| -0.5737092512163708|\n",
      "|2016-01-01 02:40:...|temperator| -0.6700637783467354|\n",
      "|2016-01-01 02:50:...|temperator| -0.9998574093983488|\n",
      "|2016-01-01 03:00:...|temperator| -0.9300295738796616|\n",
      "|2016-01-01 03:10:...|temperator| -1.1715434676074357|\n",
      "+--------------------+----------+--------------------+\n",
      "only showing top 20 rows\n",
      "\n"
     ]
    }
   ],
   "source": [
    "df.show()"
   ]
  },
  {
   "cell_type": "code",
   "execution_count": null,
   "metadata": {},
   "outputs": [],
   "source": []
  }
 ],
 "metadata": {
  "kernelspec": {
   "display_name": "Python 3",
   "language": "python",
   "name": "python3"
  },
  "language_info": {
   "codemirror_mode": {
    "name": "ipython",
    "version": 3
   },
   "file_extension": ".py",
   "mimetype": "text/x-python",
   "name": "python",
   "nbconvert_exporter": "python",
   "pygments_lexer": "ipython3",
   "version": "3.6.5"
  }
 },
 "nbformat": 4,
 "nbformat_minor": 2
}
